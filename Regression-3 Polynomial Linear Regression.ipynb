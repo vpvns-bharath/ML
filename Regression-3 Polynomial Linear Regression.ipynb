{
 "cells": [
  {
   "cell_type": "code",
   "execution_count": 1,
   "id": "5619171f",
   "metadata": {},
   "outputs": [],
   "source": [
    "import pandas as pd\n",
    "import numpy as np\n",
    "import matplotlib.pyplot as plt"
   ]
  },
  {
   "cell_type": "code",
   "execution_count": 3,
   "id": "db11d1cf",
   "metadata": {},
   "outputs": [],
   "source": [
    "dataset = pd.read_csv('Position_Salaries.csv')\n",
    "x = dataset.iloc[:,1:-1].values\n",
    "y=dataset.iloc[:,-1].values"
   ]
  },
  {
   "cell_type": "code",
   "execution_count": 4,
   "id": "78888aa8",
   "metadata": {},
   "outputs": [
    {
     "name": "stdout",
     "output_type": "stream",
     "text": [
      "[[ 1]\n",
      " [ 2]\n",
      " [ 3]\n",
      " [ 4]\n",
      " [ 5]\n",
      " [ 6]\n",
      " [ 7]\n",
      " [ 8]\n",
      " [ 9]\n",
      " [10]]\n"
     ]
    }
   ],
   "source": [
    "print(x)"
   ]
  },
  {
   "cell_type": "code",
   "execution_count": 5,
   "id": "905c1586",
   "metadata": {},
   "outputs": [
    {
     "name": "stdout",
     "output_type": "stream",
     "text": [
      "[  45000   50000   60000   80000  110000  150000  200000  300000  500000\n",
      " 1000000]\n"
     ]
    }
   ],
   "source": [
    "print(y)"
   ]
  },
  {
   "cell_type": "code",
   "execution_count": 6,
   "id": "e175afd8",
   "metadata": {},
   "outputs": [],
   "source": [
    "##the goal of this particular data model is just to know assumption is crct or not and the data set is very small so\n",
    "## we will not split it into test data train with whole data"
   ]
  },
  {
   "cell_type": "code",
   "execution_count": null,
   "id": "e75b913c",
   "metadata": {},
   "outputs": [],
   "source": [
    "##trying with linear regression first"
   ]
  },
  {
   "cell_type": "code",
   "execution_count": 7,
   "id": "d4ed4aab",
   "metadata": {},
   "outputs": [
    {
     "data": {
      "text/plain": [
       "LinearRegression()"
      ]
     },
     "execution_count": 7,
     "metadata": {},
     "output_type": "execute_result"
    }
   ],
   "source": [
    "from sklearn.linear_model import LinearRegression\n",
    "lr = LinearRegression()\n",
    "lr.fit(x,y)"
   ]
  },
  {
   "cell_type": "code",
   "execution_count": null,
   "id": "51ce8996",
   "metadata": {},
   "outputs": [],
   "source": [
    "## using polynomial linear regression"
   ]
  },
  {
   "cell_type": "code",
   "execution_count": 16,
   "id": "0ab40045",
   "metadata": {},
   "outputs": [
    {
     "data": {
      "text/plain": [
       "LinearRegression()"
      ]
     },
     "execution_count": 16,
     "metadata": {},
     "output_type": "execute_result"
    }
   ],
   "source": [
    "from sklearn.preprocessing import PolynomialFeatures\n",
    "pf = PolynomialFeatures(degree = 4)\n",
    "x_poly = pf.fit_transform(x)\n",
    "pr = LinearRegression()\n",
    "pr.fit(x_poly,y)\n"
   ]
  },
  {
   "cell_type": "code",
   "execution_count": null,
   "id": "4c2ec7a6",
   "metadata": {},
   "outputs": [],
   "source": [
    "##visualising linear regression results"
   ]
  },
  {
   "cell_type": "code",
   "execution_count": 11,
   "id": "210c1e6d",
   "metadata": {},
   "outputs": [
    {
     "data": {
      "image/png": "[encoded data removed]",
      "text/plain": [
       "<Figure size 432x288 with 1 Axes>"
      ]
     },
     "metadata": {
      "needs_background": "light"
     },
     "output_type": "display_data"
    }
   ],
   "source": [
    "plt.scatter(x,y,color = 'red')\n",
    "plt.plot(x,lr.predict(x),color = 'yellow')\n",
    "plt.title('linear reg results')\n",
    "plt.xlabel('levels')\n",
    "plt.ylabel('salaries')\n",
    "plt.show()"
   ]
  },
  {
   "cell_type": "code",
   "execution_count": null,
   "id": "89652cdd",
   "metadata": {},
   "outputs": [],
   "source": [
    "##visualising polynomial regression results"
   ]
  },
  {
   "cell_type": "code",
   "execution_count": 17,
   "id": "ff676f3b",
   "metadata": {},
   "outputs": [
    {
     "data": {
      "image/png": "[encoded data removed]",
      "text/plain": [
       "<Figure size 432x288 with 1 Axes>"
      ]
     },
     "metadata": {
      "needs_background": "light"
     },
     "output_type": "display_data"
    }
   ],
   "source": [
    "plt.scatter(x,y,color = 'red')\n",
    "plt.plot(x,pr.predict(x_poly),color = 'yellow')\n",
    "plt.title('polynomial reg results')\n",
    "plt.xlabel('levels')\n",
    "plt.ylabel('salaries')\n",
    "plt.show()"
   ]
  },
  {
   "cell_type": "code",
   "execution_count": 18,
   "id": "55d5790f",
   "metadata": {},
   "outputs": [],
   "source": [
    "##predict new result with linear regression"
   ]
  },
  {
   "cell_type": "code",
   "execution_count": 19,
   "id": "39221634",
   "metadata": {},
   "outputs": [
    {
     "data": {
      "text/plain": [
       "array([330378.78787879])"
      ]
     },
     "execution_count": 19,
     "metadata": {},
     "output_type": "execute_result"
    }
   ],
   "source": [
    "lr.predict([[6.5]])"
   ]
  },
  {
   "cell_type": "code",
   "execution_count": 20,
   "id": "9038d391",
   "metadata": {},
   "outputs": [],
   "source": [
    "## predict new result with poly linear regression"
   ]
  },
  {
   "cell_type": "code",
   "execution_count": 23,
   "id": "45b4d869",
   "metadata": {},
   "outputs": [
    {
     "data": {
      "text/plain": [
       "array([158862.45265153])"
      ]
     },
     "execution_count": 23,
     "metadata": {},
     "output_type": "execute_result"
    }
   ],
   "source": [
    "pr.predict(pf.fit_transform([[6.5]]))"
   ]
  }
 ],
 "metadata": {
  "kernelspec": {
   "display_name": "Python 3",
   "language": "python",
   "name": "python3"
  },
  "language_info": {
   "codemirror_mode": {
    "name": "ipython",
    "version": 3
   },
   "file_extension": ".py",
   "mimetype": "text/x-python",
   "name": "python",
   "nbconvert_exporter": "python",
   "pygments_lexer": "ipython3",
   "version": "3.8.8"
  }
 },
 "nbformat": 4,
 "nbformat_minor": 5
}
